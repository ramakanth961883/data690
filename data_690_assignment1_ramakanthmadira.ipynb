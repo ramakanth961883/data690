{
  "nbformat": 4,
  "nbformat_minor": 0,
  "metadata": {
    "colab": {
      "provenance": []
    },
    "kernelspec": {
      "name": "python3",
      "display_name": "Python 3"
    },
    "language_info": {
      "name": "python"
    }
  },
  "cells": [
    {
      "cell_type": "markdown",
      "source": [
        "1. Which of the following is not an application of NLP?\n",
        "a. Image labeling\n",
        "b. Poetry generation\n",
        "c. Sentimental analysis\n",
        "d. E-mail classification\n",
        "\n",
        "ans: a. Image labeling\n",
        "\n",
        "2. Which of the following is not an NLP task?\n",
        "a. Tokenization\n",
        "b. Stop word removal\n",
        "c. Part-of-speech tagging\n",
        "d. Image segmentation\n",
        "\n",
        "ans: d. Image segmentation\n",
        "\n",
        "\n",
        "3. Which of the following is not a disadvantage of rule-based approaches for NLP?\n",
        "a. Not flexible\n",
        "b. Not scalable\n",
        "c. Requires huge dataset\n",
        "d. None of the above\n",
        "\n",
        "ans: d. None of the above\n",
        "\n",
        "4. What are the two major types of NLP approaches?\n",
        "\n",
        "\n",
        "   ans: rule based and stastical approaches"
      ],
      "metadata": {
        "id": "e-EbL1oz8IY5"
      }
    },
    {
      "cell_type": "markdown",
      "source": [
        "5. Use TextBlob to translate a sentence in English into French, Mandarin, and\n",
        "Hindi?\n",
        "a. Import TextBlob\n",
        "b. Languages are coded as ‘fr’, ‘zh-CN’, ‘hi’\n",
        "c. Translate the following sentence “Who knew translation could be fun” into\n",
        "French, Mandarin, and Hindi\n"
      ],
      "metadata": {
        "id": "XI9cyS_48bz5"
      }
    },
    {
      "cell_type": "code",
      "source": [
        "!pip install -U textblob\n",
        "!python -m textblob.download_corpora\n"
      ],
      "metadata": {
        "colab": {
          "base_uri": "https://localhost:8080/"
        },
        "id": "vLxOfH5D8czO",
        "outputId": "a18ee5b2-5054-4555-edb8-2b79d02f1a50"
      },
      "execution_count": 1,
      "outputs": [
        {
          "output_type": "stream",
          "name": "stdout",
          "text": [
            "Requirement already satisfied: textblob in /usr/local/lib/python3.10/dist-packages (0.17.1)\n",
            "Requirement already satisfied: nltk>=3.1 in /usr/local/lib/python3.10/dist-packages (from textblob) (3.8.1)\n",
            "Requirement already satisfied: click in /usr/local/lib/python3.10/dist-packages (from nltk>=3.1->textblob) (8.1.7)\n",
            "Requirement already satisfied: joblib in /usr/local/lib/python3.10/dist-packages (from nltk>=3.1->textblob) (1.3.2)\n",
            "Requirement already satisfied: regex>=2021.8.3 in /usr/local/lib/python3.10/dist-packages (from nltk>=3.1->textblob) (2023.12.25)\n",
            "Requirement already satisfied: tqdm in /usr/local/lib/python3.10/dist-packages (from nltk>=3.1->textblob) (4.66.1)\n",
            "[nltk_data] Downloading package brown to /root/nltk_data...\n",
            "[nltk_data]   Unzipping corpora/brown.zip.\n",
            "[nltk_data] Downloading package punkt to /root/nltk_data...\n",
            "[nltk_data]   Unzipping tokenizers/punkt.zip.\n",
            "[nltk_data] Downloading package wordnet to /root/nltk_data...\n",
            "[nltk_data] Downloading package averaged_perceptron_tagger to\n",
            "[nltk_data]     /root/nltk_data...\n",
            "[nltk_data]   Unzipping taggers/averaged_perceptron_tagger.zip.\n",
            "[nltk_data] Downloading package conll2000 to /root/nltk_data...\n",
            "[nltk_data]   Unzipping corpora/conll2000.zip.\n",
            "[nltk_data] Downloading package movie_reviews to /root/nltk_data...\n",
            "[nltk_data]   Unzipping corpora/movie_reviews.zip.\n",
            "Finished.\n"
          ]
        }
      ]
    },
    {
      "cell_type": "code",
      "source": [
        "from textblob import TextBlob\n"
      ],
      "metadata": {
        "id": "ZNJCy_s68zHY"
      },
      "execution_count": 2,
      "outputs": []
    },
    {
      "cell_type": "code",
      "source": [
        "lang_targeted = ['fr', 'zh-CN', 'hi']\n",
        "given_sentence = \"Who knew translation could be fun\"\n",
        "\n",
        "for language_code in lang_targeted:\n",
        "    converted_text = TextBlob(sentence).translate(from_lang='en', to=language_code)\n",
        "    print(f\"Translating language  from English to {language_code}: {converted_text}\")"
      ],
      "metadata": {
        "colab": {
          "base_uri": "https://localhost:8080/"
        },
        "id": "JDg-0CcY8-lt",
        "outputId": "84c52da9-b2ed-402e-c133-fbef34e54cc7"
      },
      "execution_count": 7,
      "outputs": [
        {
          "output_type": "stream",
          "name": "stdout",
          "text": [
            "Translating language  from English to fr: Qui savait que la traduction pouvait être amusante\n",
            "Translating language  from English to zh-CN: 谁知道翻译可能很有趣\n",
            "Translating language  from English to hi: कौन जानता था कि अनुवाद मजेदार हो सकता है\n"
          ]
        }
      ]
    }
  ]
}