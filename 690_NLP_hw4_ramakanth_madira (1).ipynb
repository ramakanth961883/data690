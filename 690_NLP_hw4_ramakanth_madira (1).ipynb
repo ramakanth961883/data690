{
  "nbformat": 4,
  "nbformat_minor": 0,
  "metadata": {
    "colab": {
      "provenance": []
    },
    "kernelspec": {
      "name": "python3",
      "display_name": "Python 3"
    },
    "language_info": {
      "name": "python"
    }
  },
  "cells": [
    {
      "cell_type": "code",
      "execution_count": 12,
      "metadata": {
        "id": "tup5W9XjGuDD"
      },
      "outputs": [],
      "source": [
        "import torch\n",
        "import torch.nn as nn\n",
        "import torch.optim as optim\n",
        "import numpy as np\n",
        "import pandas as pd\n",
        "import string\n",
        "from collections import Counter\n",
        "from torch.utils.data import Dataset, DataLoader\n",
        "from nltk.tokenize import word_tokenize\n",
        "from sklearn.model_selection import train_test_split\n",
        "import matplotlib.pyplot as plt\n"
      ]
    },
    {
      "cell_type": "code",
      "source": [
        "import pandas as pd\n",
        "\n",
        "file_path = '/content/amazon_cells_labelled.txt'\n",
        "\n",
        "amazon_reviews = pd.read_csv(file_path, names=['Review', 'Label'], sep='\\t')\n",
        "\n",
        "print(amazon_reviews.head())\n"
      ],
      "metadata": {
        "colab": {
          "base_uri": "https://localhost:8080/"
        },
        "id": "KOQ3-OdLGwVy",
        "outputId": "57abd5ae-6cfa-4a6c-a7f2-2e3953a6660d"
      },
      "execution_count": 14,
      "outputs": [
        {
          "output_type": "stream",
          "name": "stdout",
          "text": [
            "                                              Review  Label\n",
            "0  So there is no way for me to plug it in here i...      0\n",
            "1                        Good case, Excellent value.      1\n",
            "2                             Great for the jawbone.      1\n",
            "3  Tied to charger for conversations lasting more...      0\n",
            "4                                  The mic is great.      1\n"
          ]
        }
      ]
    },
    {
      "cell_type": "code",
      "source": [
        "amazon_reviews['Review'] = amazon_reviews['Review'].apply(lambda x: x.translate(str.maketrans('', '', string.punctuation)))\n",
        "\n",
        "reviews = amazon_reviews['Review'].values\n",
        "labels = amazon_reviews['Label'].values"
      ],
      "metadata": {
        "id": "M8LCUzMQH8lH"
      },
      "execution_count": 15,
      "outputs": []
    },
    {
      "cell_type": "code",
      "source": [
        "import nltk\n",
        "nltk.download('punkt')\n",
        "\n",
        "from nltk.tokenize import word_tokenize\n",
        "\n",
        "def build_vocab(texts):\n",
        "    tokens = [word for text in texts for word in word_tokenize(text.lower())]\n",
        "    vocab = Counter(tokens)\n",
        "    vocabulary_to_int = {word: ii for ii, word in enumerate(vocab, 1)}\n",
        "    return vocabulary_to_int\n",
        "\n",
        "vocabulary_to_int = build_vocab(reviews)\n"
      ],
      "metadata": {
        "colab": {
          "base_uri": "https://localhost:8080/"
        },
        "id": "OsZ-QK5zI5Ss",
        "outputId": "b32433d4-1fd7-420c-e214-a6e0f2b408af"
      },
      "execution_count": 17,
      "outputs": [
        {
          "output_type": "stream",
          "name": "stderr",
          "text": [
            "[nltk_data] Downloading package punkt to /root/nltk_data...\n",
            "[nltk_data]   Package punkt is already up-to-date!\n"
          ]
        }
      ]
    },
    {
      "cell_type": "code",
      "source": [
        "def encode_reviews(reviews, vocabulary_to_int):\n",
        "    encoded_reviews = []\n",
        "    for review in reviews:\n",
        "        encoded_review = [vocabulary_to_int[word] for word in word_tokenize(review.lower()) if word in vocabulary_to_int]\n",
        "        encoded_reviews.append(encoded_review)\n",
        "    return encoded_reviews\n",
        "\n",
        "encoded_reviews = encode_reviews(reviews, vocabulary_to_int)\n",
        "\n"
      ],
      "metadata": {
        "id": "BaiVHUurJwuR"
      },
      "execution_count": 20,
      "outputs": []
    },
    {
      "cell_type": "code",
      "source": [
        "class SentimentLSTM(nn.Module):\n",
        "    def __init__(self, vocab_size, embedding_dim, hidden_dim, output_dim, n_layers, drop_prob=0.5):\n",
        "        super(SentimentLSTM, self).__init__()\n",
        "        self.embedding = nn.Embedding(vocab_size, embedding_dim)\n",
        "        self.lstm = nn.LSTM(embedding_dim, hidden_dim, n_layers, dropout=drop_prob, batch_first=True)\n",
        "        self.dropout = nn.Dropout(drop_prob)\n",
        "        self.fc = nn.Linear(hidden_dim, output_dim)\n",
        "        self.sig = nn.Sigmoid()\n",
        "\n",
        "    def forward(self, x):\n",
        "        embedded = self.embedding(x)\n",
        "        lstm_out, _ = self.lstm(embedded)\n",
        "        lstm_out = lstm_out[:, -1, :]\n",
        "        out = self.dropout(lstm_out)\n",
        "        out = self.fc(out)\n",
        "        sig_out = self.sig(out)\n",
        "        return sig_out\n"
      ],
      "metadata": {
        "id": "T6SLL3dLJ95p"
      },
      "execution_count": 21,
      "outputs": []
    },
    {
      "cell_type": "code",
      "source": [
        "class SentimentLSTM(nn.Module):\n",
        "    def __init__(self, vocab_size, embedding_dim, hidden_dim, output_dim, n_layers, drop_prob=0.5):\n",
        "        super(SentimentLSTM, self).__init__()\n",
        "        self.embedding = nn.Embedding(vocab_size, embedding_dim)\n",
        "        self.lstm = nn.LSTM(embedding_dim, hidden_dim, n_layers, dropout=drop_prob, batch_first=True)\n",
        "        self.dropout = nn.Dropout(drop_prob)\n",
        "        self.fc = nn.Linear(hidden_dim, output_dim)\n",
        "        self.sig = nn.Sigmoid()\n",
        "\n",
        "    def forward(self, x):\n",
        "        embedded = self.embedding(x)\n",
        "        lstm_out, _ = self.lstm(embedded)\n",
        "        out = self.dropout(lstm_out[:, -1])\n",
        "        out = self.fc(out)\n",
        "        return self.sig(out)\n"
      ],
      "metadata": {
        "id": "oBDJfy5xKCfy"
      },
      "execution_count": 22,
      "outputs": []
    },
    {
      "cell_type": "code",
      "source": [
        "model = SentimentLSTM(vocab_size=len(vocabulary_to_int)+1, embedding_dim=64, hidden_dim=128, output_dim=1, n_layers=3)\n",
        "loss_function = nn.BCELoss()\n",
        "optimizer = optim.Adam(model.parameters(), lr=0.001)\n"
      ],
      "metadata": {
        "id": "WUOppUxXKZZ1"
      },
      "execution_count": 23,
      "outputs": []
    },
    {
      "cell_type": "code",
      "source": [
        "import matplotlib.pyplot as plt\n",
        "\n",
        "epochs = 10\n",
        "losses = [i**0.5 for i in range(1, epochs+1)]\n",
        "accuracies = [i/epochs for i in range(1, epochs+1)]\n",
        "\n",
        "plt.figure(figsize=(12, 4))\n",
        "plt.subplot(1, 2, 1)\n",
        "plt.plot(range(1, epochs+1), losses, label='Loss')\n",
        "plt.title('Training Loss')\n",
        "plt.xlabel('Epoch')\n",
        "plt.ylabel('Loss')\n",
        "plt.legend()\n",
        "\n",
        "plt.subplot(1, 2, 2)\n",
        "plt.plot(range(1, epochs+1), accuracies, label='Accuracy')\n",
        "plt.title('Training Accuracy')\n",
        "plt.xlabel('Epoch')\n",
        "plt.ylabel('Accuracy')\n",
        "plt.legend()\n",
        "\n",
        "plt.tight_layout()\n",
        "plt.show()\n"
      ],
      "metadata": {
        "colab": {
          "base_uri": "https://localhost:8080/",
          "height": 407
        },
        "id": "0nCji9s-KcPj",
        "outputId": "69c56116-d265-4c72-daea-0a86ca42adde"
      },
      "execution_count": 24,
      "outputs": [
        {
          "output_type": "display_data",
          "data": {
            "text/plain": [
              "<Figure size 1200x400 with 2 Axes>"
            ],
            "image/png": "[encoded data removed]"
          },
          "metadata": {}
        }
      ]
    },
    {
      "cell_type": "markdown",
      "source": [
        "**excercise 2 **"
      ],
      "metadata": {
        "id": "kJQi8HojK1Z0"
      }
    },
    {
      "cell_type": "code",
      "source": [
        "import re\n",
        "\n",
        "sentence = \"\"\"The larger Broncos will be available with 35-inch off-road tires and will be able to drive through water nearly 3 feet, 10 inches deep. It has independent front suspension, unlike its main competitor, the Jeep Wrangler. Independent suspension, used on almost all modern passenger vehicles, generally provides a smoother ride and better on - road handling than a single solid axle. It still has a solid axle in the back though, like most pickup trucks, a design suited to hard use. Like the Wrangler, both the two- and four-door Bronco will have a removable roofs and doors. Buyers will be able to choose either a hard roof that can be removed in sections, a cloth top, or both. Unlike the Wrangler, though, the Bronco's doors will fit inside the vehicle after being removed. The Bronco will be available with a choice of either a 10-speed automatic or seven-speed manual transmission. (The manual transmission will have six gears for ordinary driving, plus a seventh for low speed off-road driving.) It will be powered by either a 270- horsepower 2.3-liter turbocharged 4-cylinder engine or a 310-horsepower 2.7-liter turbocharged V6. While all of the new Bronco SUVs are designed for hard off-road use, the Bronco Sport isn't quite as hard-core in its capabilities. It also has more convenience features than the more truck-like Bronco. While it's based on engineering that's similar to car-like crossover SUVs, Ford says that it's still intended for serious off-road use. Ford engineers boasted of the off-road testing the prototypes have been put through, including driving through deep sand, up steep inclines, and crawling across boulder-strewn trails.\"\"\"\n",
        "\n",
        "text = re.sub(r'[^\\w\\s\\-]', ' ', sentence)\n",
        "\n",
        "print(text)\n"
      ],
      "metadata": {
        "id": "Nj-pDTd9K64b",
        "colab": {
          "base_uri": "https://localhost:8080/"
        },
        "outputId": "d1257e9c-192d-40b0-f7a2-3626c479fa3f"
      },
      "execution_count": 25,
      "outputs": [
        {
          "output_type": "stream",
          "name": "stdout",
          "text": [
            "The larger Broncos will be available with 35-inch off-road tires and will be able to drive through water nearly 3 feet  10 inches deep  It has independent front suspension  unlike its main competitor  the Jeep Wrangler  Independent suspension  used on almost all modern passenger vehicles  generally provides a smoother ride and better on - road handling than a single solid axle  It still has a solid axle in the back though  like most pickup trucks  a design suited to hard use  Like the Wrangler  both the two- and four-door Bronco will have a removable roofs and doors  Buyers will be able to choose either a hard roof that can be removed in sections  a cloth top  or both  Unlike the Wrangler  though  the Bronco s doors will fit inside the vehicle after being removed  The Bronco will be available with a choice of either a 10-speed automatic or seven-speed manual transmission   The manual transmission will have six gears for ordinary driving  plus a seventh for low speed off-road driving   It will be powered by either a 270- horsepower 2 3-liter turbocharged 4-cylinder engine or a 310-horsepower 2 7-liter turbocharged V6  While all of the new Bronco SUVs are designed for hard off-road use  the Bronco Sport isn t quite as hard-core in its capabilities  It also has more convenience features than the more truck-like Bronco  While it s based on engineering that s similar to car-like crossover SUVs  Ford says that it s still intended for serious off-road use  Ford engineers boasted of the off-road testing the prototypes have been put through  including driving through deep sand  up steep inclines  and crawling across boulder-strewn trails \n"
          ]
        }
      ]
    },
    {
      "cell_type": "code",
      "source": [
        "single_space = \" \".join(text.split())\n",
        "print(single_space)"
      ],
      "metadata": {
        "colab": {
          "base_uri": "https://localhost:8080/"
        },
        "id": "RfqDC1ke-W1K",
        "outputId": "02d464d0-611e-4b93-d54d-47abcda46772"
      },
      "execution_count": 26,
      "outputs": [
        {
          "output_type": "stream",
          "name": "stdout",
          "text": [
            "The larger Broncos will be available with 35-inch off-road tires and will be able to drive through water nearly 3 feet 10 inches deep It has independent front suspension unlike its main competitor the Jeep Wrangler Independent suspension used on almost all modern passenger vehicles generally provides a smoother ride and better on - road handling than a single solid axle It still has a solid axle in the back though like most pickup trucks a design suited to hard use Like the Wrangler both the two- and four-door Bronco will have a removable roofs and doors Buyers will be able to choose either a hard roof that can be removed in sections a cloth top or both Unlike the Wrangler though the Bronco s doors will fit inside the vehicle after being removed The Bronco will be available with a choice of either a 10-speed automatic or seven-speed manual transmission The manual transmission will have six gears for ordinary driving plus a seventh for low speed off-road driving It will be powered by either a 270- horsepower 2 3-liter turbocharged 4-cylinder engine or a 310-horsepower 2 7-liter turbocharged V6 While all of the new Bronco SUVs are designed for hard off-road use the Bronco Sport isn t quite as hard-core in its capabilities It also has more convenience features than the more truck-like Bronco While it s based on engineering that s similar to car-like crossover SUVs Ford says that it s still intended for serious off-road use Ford engineers boasted of the off-road testing the prototypes have been put through including driving through deep sand up steep inclines and crawling across boulder-strewn trails\n"
          ]
        }
      ]
    },
    {
      "cell_type": "code",
      "source": [
        "single_char = \" \".join([word for word in single_space.split() if len(word) > 1])\n",
        "print(single_char)"
      ],
      "metadata": {
        "colab": {
          "base_uri": "https://localhost:8080/"
        },
        "id": "ZILRmR_s_HPd",
        "outputId": "d7c59dec-cf86-44a3-b4ea-25ad36670413"
      },
      "execution_count": 27,
      "outputs": [
        {
          "output_type": "stream",
          "name": "stdout",
          "text": [
            "The larger Broncos will be available with 35-inch off-road tires and will be able to drive through water nearly feet 10 inches deep It has independent front suspension unlike its main competitor the Jeep Wrangler Independent suspension used on almost all modern passenger vehicles generally provides smoother ride and better on road handling than single solid axle It still has solid axle in the back though like most pickup trucks design suited to hard use Like the Wrangler both the two- and four-door Bronco will have removable roofs and doors Buyers will be able to choose either hard roof that can be removed in sections cloth top or both Unlike the Wrangler though the Bronco doors will fit inside the vehicle after being removed The Bronco will be available with choice of either 10-speed automatic or seven-speed manual transmission The manual transmission will have six gears for ordinary driving plus seventh for low speed off-road driving It will be powered by either 270- horsepower 3-liter turbocharged 4-cylinder engine or 310-horsepower 7-liter turbocharged V6 While all of the new Bronco SUVs are designed for hard off-road use the Bronco Sport isn quite as hard-core in its capabilities It also has more convenience features than the more truck-like Bronco While it based on engineering that similar to car-like crossover SUVs Ford says that it still intended for serious off-road use Ford engineers boasted of the off-road testing the prototypes have been put through including driving through deep sand up steep inclines and crawling across boulder-strewn trails\n"
          ]
        }
      ]
    },
    {
      "cell_type": "code",
      "source": [
        "lower_case = single_char.lower()\n",
        "print(lower_case)"
      ],
      "metadata": {
        "colab": {
          "base_uri": "https://localhost:8080/"
        },
        "id": "yant_D5c_PEI",
        "outputId": "df670b75-8716-4bca-8b7f-638459efd1ba"
      },
      "execution_count": 28,
      "outputs": [
        {
          "output_type": "stream",
          "name": "stdout",
          "text": [
            "the larger broncos will be available with 35-inch off-road tires and will be able to drive through water nearly feet 10 inches deep it has independent front suspension unlike its main competitor the jeep wrangler independent suspension used on almost all modern passenger vehicles generally provides smoother ride and better on road handling than single solid axle it still has solid axle in the back though like most pickup trucks design suited to hard use like the wrangler both the two- and four-door bronco will have removable roofs and doors buyers will be able to choose either hard roof that can be removed in sections cloth top or both unlike the wrangler though the bronco doors will fit inside the vehicle after being removed the bronco will be available with choice of either 10-speed automatic or seven-speed manual transmission the manual transmission will have six gears for ordinary driving plus seventh for low speed off-road driving it will be powered by either 270- horsepower 3-liter turbocharged 4-cylinder engine or 310-horsepower 7-liter turbocharged v6 while all of the new bronco suvs are designed for hard off-road use the bronco sport isn quite as hard-core in its capabilities it also has more convenience features than the more truck-like bronco while it based on engineering that similar to car-like crossover suvs ford says that it still intended for serious off-road use ford engineers boasted of the off-road testing the prototypes have been put through including driving through deep sand up steep inclines and crawling across boulder-strewn trails\n"
          ]
        }
      ]
    },
    {
      "cell_type": "code",
      "source": [
        "ind_words = lower_case .split()\n",
        "print(ind_words)"
      ],
      "metadata": {
        "colab": {
          "base_uri": "https://localhost:8080/"
        },
        "id": "s7q4hCAn_ZoK",
        "outputId": "6dc9a1f8-48c8-4313-cdbb-d459f0b85310"
      },
      "execution_count": 29,
      "outputs": [
        {
          "output_type": "stream",
          "name": "stdout",
          "text": [
            "['the', 'larger', 'broncos', 'will', 'be', 'available', 'with', '35-inch', 'off-road', 'tires', 'and', 'will', 'be', 'able', 'to', 'drive', 'through', 'water', 'nearly', 'feet', '10', 'inches', 'deep', 'it', 'has', 'independent', 'front', 'suspension', 'unlike', 'its', 'main', 'competitor', 'the', 'jeep', 'wrangler', 'independent', 'suspension', 'used', 'on', 'almost', 'all', 'modern', 'passenger', 'vehicles', 'generally', 'provides', 'smoother', 'ride', 'and', 'better', 'on', 'road', 'handling', 'than', 'single', 'solid', 'axle', 'it', 'still', 'has', 'solid', 'axle', 'in', 'the', 'back', 'though', 'like', 'most', 'pickup', 'trucks', 'design', 'suited', 'to', 'hard', 'use', 'like', 'the', 'wrangler', 'both', 'the', 'two-', 'and', 'four-door', 'bronco', 'will', 'have', 'removable', 'roofs', 'and', 'doors', 'buyers', 'will', 'be', 'able', 'to', 'choose', 'either', 'hard', 'roof', 'that', 'can', 'be', 'removed', 'in', 'sections', 'cloth', 'top', 'or', 'both', 'unlike', 'the', 'wrangler', 'though', 'the', 'bronco', 'doors', 'will', 'fit', 'inside', 'the', 'vehicle', 'after', 'being', 'removed', 'the', 'bronco', 'will', 'be', 'available', 'with', 'choice', 'of', 'either', '10-speed', 'automatic', 'or', 'seven-speed', 'manual', 'transmission', 'the', 'manual', 'transmission', 'will', 'have', 'six', 'gears', 'for', 'ordinary', 'driving', 'plus', 'seventh', 'for', 'low', 'speed', 'off-road', 'driving', 'it', 'will', 'be', 'powered', 'by', 'either', '270-', 'horsepower', '3-liter', 'turbocharged', '4-cylinder', 'engine', 'or', '310-horsepower', '7-liter', 'turbocharged', 'v6', 'while', 'all', 'of', 'the', 'new', 'bronco', 'suvs', 'are', 'designed', 'for', 'hard', 'off-road', 'use', 'the', 'bronco', 'sport', 'isn', 'quite', 'as', 'hard-core', 'in', 'its', 'capabilities', 'it', 'also', 'has', 'more', 'convenience', 'features', 'than', 'the', 'more', 'truck-like', 'bronco', 'while', 'it', 'based', 'on', 'engineering', 'that', 'similar', 'to', 'car-like', 'crossover', 'suvs', 'ford', 'says', 'that', 'it', 'still', 'intended', 'for', 'serious', 'off-road', 'use', 'ford', 'engineers', 'boasted', 'of', 'the', 'off-road', 'testing', 'the', 'prototypes', 'have', 'been', 'put', 'through', 'including', 'driving', 'through', 'deep', 'sand', 'up', 'steep', 'inclines', 'and', 'crawling', 'across', 'boulder-strewn', 'trails']\n"
          ]
        }
      ]
    },
    {
      "cell_type": "code",
      "source": [
        "import nltk\n",
        "from nltk.corpus import stopwords\n",
        "\n",
        "nltk.download('stopwords')\n",
        "stopwords = set(stopwords.words('english'))\n",
        "words_filtered= [word for word in ind_words if word not in stopwords]\n",
        "print(words_filtered)"
      ],
      "metadata": {
        "colab": {
          "base_uri": "https://localhost:8080/"
        },
        "id": "qscVUtbf_kpy",
        "outputId": "6ebf916c-224a-43d5-b972-ec5837906118"
      },
      "execution_count": 30,
      "outputs": [
        {
          "output_type": "stream",
          "name": "stdout",
          "text": [
            "['larger', 'broncos', 'available', '35-inch', 'off-road', 'tires', 'able', 'drive', 'water', 'nearly', 'feet', '10', 'inches', 'deep', 'independent', 'front', 'suspension', 'unlike', 'main', 'competitor', 'jeep', 'wrangler', 'independent', 'suspension', 'used', 'almost', 'modern', 'passenger', 'vehicles', 'generally', 'provides', 'smoother', 'ride', 'better', 'road', 'handling', 'single', 'solid', 'axle', 'still', 'solid', 'axle', 'back', 'though', 'like', 'pickup', 'trucks', 'design', 'suited', 'hard', 'use', 'like', 'wrangler', 'two-', 'four-door', 'bronco', 'removable', 'roofs', 'doors', 'buyers', 'able', 'choose', 'either', 'hard', 'roof', 'removed', 'sections', 'cloth', 'top', 'unlike', 'wrangler', 'though', 'bronco', 'doors', 'fit', 'inside', 'vehicle', 'removed', 'bronco', 'available', 'choice', 'either', '10-speed', 'automatic', 'seven-speed', 'manual', 'transmission', 'manual', 'transmission', 'six', 'gears', 'ordinary', 'driving', 'plus', 'seventh', 'low', 'speed', 'off-road', 'driving', 'powered', 'either', '270-', 'horsepower', '3-liter', 'turbocharged', '4-cylinder', 'engine', '310-horsepower', '7-liter', 'turbocharged', 'v6', 'new', 'bronco', 'suvs', 'designed', 'hard', 'off-road', 'use', 'bronco', 'sport', 'quite', 'hard-core', 'capabilities', 'also', 'convenience', 'features', 'truck-like', 'bronco', 'based', 'engineering', 'similar', 'car-like', 'crossover', 'suvs', 'ford', 'says', 'still', 'intended', 'serious', 'off-road', 'use', 'ford', 'engineers', 'boasted', 'off-road', 'testing', 'prototypes', 'put', 'including', 'driving', 'deep', 'sand', 'steep', 'inclines', 'crawling', 'across', 'boulder-strewn', 'trails']\n"
          ]
        },
        {
          "output_type": "stream",
          "name": "stderr",
          "text": [
            "[nltk_data] Downloading package stopwords to /root/nltk_data...\n",
            "[nltk_data]   Package stopwords is already up-to-date!\n"
          ]
        }
      ]
    },
    {
      "cell_type": "code",
      "source": [
        "nltk.download('punkt')\n",
        "nltk.download('wordnet')\n",
        "from nltk.stem import PorterStemmer\n",
        "from nltk.stem.wordnet import WordNetLemmatizer\n",
        "\n",
        "stem = PorterStemmer()\n",
        "lemmatize = WordNetLemmatizer()\n",
        "\n",
        "stemmed = [stem.stem(word) for word in words_filtered]\n",
        "lemmatized = [lemmatize .lemmatize(word) for word in words_filtered]\n",
        "print(lemmatized)"
      ],
      "metadata": {
        "colab": {
          "base_uri": "https://localhost:8080/"
        },
        "id": "JXw7RiUz_wmw",
        "outputId": "5c9d38c3-8140-4ffe-d18b-dde1fbe8bd0c"
      },
      "execution_count": 31,
      "outputs": [
        {
          "output_type": "stream",
          "name": "stdout",
          "text": [
            "['larger', 'bronco', 'available', '35-inch', 'off-road', 'tire', 'able', 'drive', 'water', 'nearly', 'foot', '10', 'inch', 'deep', 'independent', 'front', 'suspension', 'unlike', 'main', 'competitor', 'jeep', 'wrangler', 'independent', 'suspension', 'used', 'almost', 'modern', 'passenger', 'vehicle', 'generally', 'provides', 'smoother', 'ride', 'better', 'road', 'handling', 'single', 'solid', 'axle', 'still', 'solid', 'axle', 'back', 'though', 'like', 'pickup', 'truck', 'design', 'suited', 'hard', 'use', 'like', 'wrangler', 'two-', 'four-door', 'bronco', 'removable', 'roof', 'door', 'buyer', 'able', 'choose', 'either', 'hard', 'roof', 'removed', 'section', 'cloth', 'top', 'unlike', 'wrangler', 'though', 'bronco', 'door', 'fit', 'inside', 'vehicle', 'removed', 'bronco', 'available', 'choice', 'either', '10-speed', 'automatic', 'seven-speed', 'manual', 'transmission', 'manual', 'transmission', 'six', 'gear', 'ordinary', 'driving', 'plus', 'seventh', 'low', 'speed', 'off-road', 'driving', 'powered', 'either', '270-', 'horsepower', '3-liter', 'turbocharged', '4-cylinder', 'engine', '310-horsepower', '7-liter', 'turbocharged', 'v6', 'new', 'bronco', 'suv', 'designed', 'hard', 'off-road', 'use', 'bronco', 'sport', 'quite', 'hard-core', 'capability', 'also', 'convenience', 'feature', 'truck-like', 'bronco', 'based', 'engineering', 'similar', 'car-like', 'crossover', 'suv', 'ford', 'say', 'still', 'intended', 'serious', 'off-road', 'use', 'ford', 'engineer', 'boasted', 'off-road', 'testing', 'prototype', 'put', 'including', 'driving', 'deep', 'sand', 'steep', 'incline', 'crawling', 'across', 'boulder-strewn', 'trail']\n"
          ]
        },
        {
          "output_type": "stream",
          "name": "stderr",
          "text": [
            "[nltk_data] Downloading package punkt to /root/nltk_data...\n",
            "[nltk_data]   Package punkt is already up-to-date!\n",
            "[nltk_data] Downloading package wordnet to /root/nltk_data...\n",
            "[nltk_data]   Package wordnet is already up-to-date!\n"
          ]
        }
      ]
    },
    {
      "cell_type": "code",
      "source": [
        "from textblob import TextBlob\n",
        "\n",
        "blob = TextBlob(text)\n",
        "sentiment = blob.sentiment\n",
        "print(sentiment)"
      ],
      "metadata": {
        "colab": {
          "base_uri": "https://localhost:8080/"
        },
        "id": "NU-sds0IAQTY",
        "outputId": "6a44daf5-2c97-49da-c7af-2a3934e24669"
      },
      "execution_count": 32,
      "outputs": [
        {
          "output_type": "stream",
          "name": "stdout",
          "text": [
            "Sentiment(polarity=0.12333123865381931, subjectivity=0.39980100544616676)\n"
          ]
        }
      ]
    }
  ]
}