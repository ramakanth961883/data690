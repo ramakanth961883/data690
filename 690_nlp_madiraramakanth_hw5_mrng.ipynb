{
  "nbformat": 4,
  "nbformat_minor": 0,
  "metadata": {
    "colab": {
      "provenance": []
    },
    "kernelspec": {
      "name": "python3",
      "display_name": "Python 3"
    },
    "language_info": {
      "name": "python"
    }
  },
  "cells": [
    {
      "cell_type": "code",
      "source": [
        "import spacy\n",
        "from spacy.lang.en.stop_words import STOP_WORDS\n",
        "from string import punctuation\n",
        "from heapq import nlargest"
      ],
      "metadata": {
        "id": "nMuytv1pQjgl"
      },
      "execution_count": 4,
      "outputs": []
    },
    {
      "cell_type": "code",
      "source": [
        "nlp = spacy.load('en_core_web_sm')\n"
      ],
      "metadata": {
        "id": "cKTOBEWKOn2O"
      },
      "execution_count": 5,
      "outputs": []
    },
    {
      "cell_type": "code",
      "source": [
        "file_path = '/content/SpaceX.txt'\n",
        "with open(file_path, 'r') as file:\n",
        "    text = file.read()\n"
      ],
      "metadata": {
        "id": "g-belV0GPZCH"
      },
      "execution_count": 7,
      "outputs": []
    },
    {
      "cell_type": "code",
      "source": [
        "doc = nlp(text)\n",
        "words = [token.text.lower() for token in doc if token.text not in STOP_WORDS and token.text not in punctuation]\n"
      ],
      "metadata": {
        "id": "_ZoNbSGgPjJV"
      },
      "execution_count": 8,
      "outputs": []
    },
    {
      "cell_type": "markdown",
      "source": [
        "To calculate word frequencies"
      ],
      "metadata": {
        "id": "bLCEYUREgfNH"
      }
    },
    {
      "cell_type": "code",
      "source": [
        "word_frequencies = {}\n",
        "for i in words:\n",
        "    if id not in word_frequencies.keys():\n",
        "        word_frequencies[i] = 1\n",
        "    else:\n",
        "        word_frequencies[i] += 1"
      ],
      "metadata": {
        "id": "DEP4GmRRPlhk"
      },
      "execution_count": 9,
      "outputs": []
    },
    {
      "cell_type": "markdown",
      "source": [
        "determining  maximum frequency"
      ],
      "metadata": {
        "id": "ya0Esu4NgVou"
      }
    },
    {
      "cell_type": "code",
      "source": [
        "maximum_frequency = max(word_frequencies.values())\n",
        "for i in word_frequencies.keys():\n",
        "    word_frequencies[i] = (word_frequencies[i] / maximum_frequency)\n"
      ],
      "metadata": {
        "id": "KeFMPXxzPnwe"
      },
      "execution_count": 11,
      "outputs": []
    },
    {
      "cell_type": "markdown",
      "source": [
        " Tokenize sentences to help in  calculate scores"
      ],
      "metadata": {
        "id": "IqeZDHCvgMfA"
      }
    },
    {
      "cell_type": "code",
      "source": [
        "sentence_tokens = [sent for sent in doc.sents]\n",
        "sentence_scores = {}\n",
        "for i in sentence_tokens:\n",
        "    for j in i:\n",
        "        if j.text.lower() in word_frequencies.keys():\n",
        "            if i not in sentence_scores.keys():\n",
        "                sentence_scores[i] = word_frequencies[j.text.lower()]\n",
        "            else:\n",
        "                sentence_scores[i] += word_frequencies[j.text.lower()]\n"
      ],
      "metadata": {
        "id": "sZyLpNzsPp8i"
      },
      "execution_count": 16,
      "outputs": []
    },
    {
      "cell_type": "markdown",
      "source": [
        "print the summary and length of the orginal text\n"
      ],
      "metadata": {
        "id": "9jThdS2SgDag"
      }
    },
    {
      "cell_type": "code",
      "source": [
        "\n",
        "select_length = int(len(sentence_tokens) * 0.3)\n",
        "summarized_sentences = nlargest(select_length, sentence_scores, key=sentence_scores.get)\n",
        "summary = ' '.join([str(sent) for sent in summarized_sentences])\n",
        "\n",
        "print(\"Summary:\\n\", summary)\n",
        "\n",
        "print(\"\\nSummary Length:\", len(summary))\n",
        "print(\"Original Text Length:\", len(text))"
      ],
      "metadata": {
        "colab": {
          "base_uri": "https://localhost:8080/"
        },
        "id": "A0rairiIPsOg",
        "outputId": "5b55d017-f4e8-43a2-c636-ccc49e37ce0f"
      },
      "execution_count": 13,
      "outputs": [
        {
          "output_type": "stream",
          "name": "stdout",
          "text": [
            "Summary:\n",
            " SpaceX CEO Elon Musk said on Friday that he would activate the firm's satellite internet service, Starlink, in response to U.S. Secretary of State Antony Blinken's tweet that the United States took action \"to advance internet freedom and the free flow of information\" to Iranians. The U.S. Treasury Department on Friday issued guidance expanding internet services available to Iranians despite U.S. sanctions on the country, amid protests around Iran following the death of a 22-year-old woman in custody.\n",
            "\n",
            "Summary Length: 505\n",
            "Original Text Length: 1894\n"
          ]
        }
      ]
    },
    {
      "cell_type": "code",
      "source": [
        "from textblob import TextBlob\n",
        "import nltk\n",
        "from nltk.sentiment.vader import SentimentIntensityAnalyzer\n",
        "\n",
        "nltk.download('vader_lexicon')\n",
        "\n",
        "text_to_analyze = '''SpaceX CEO Elon Musk said on Friday that he would activate the firm's satellite internet service, Starlink, in response to U.S. Secretary of State Antony Blinken's tweet that the United States took action \"to advance internet freedom and the free flow of information\" to Iranians. The U.S. Treasury Department on Friday issued guidance expanding internet services available to Iranians despite U.S. sanctions on the country, amid protests around Iran following the death of a 22-year-old woman in custody. A Treasury official briefing reporters said: \"Our understanding of Starlink is that what they provide would be commercial grade, and it would be hardware that's not covered in the general license; so that would be something they would need to write into Treasury for.\" A U.S. State Department spokesperson later said of Friday's updated license that it was self-executing and that \"anyone who meets the criteria outlined in this general license can proceed with their activities without requesting additional permissions.\" Musk could not be reached for comments or clarification regarding Starlink's clearance to operate in Iran. Iranians have been protesting over the death of Mahsa Amini last week while in police custody after being arrested by the morality police for wearing \"unsuitable attire\". Musk said on Monday that the company wanted to provide Starlink satellite broadband service - already provided to Ukraine for its fight against Russia's invasion - to Iranians, and would ask for a sanctions exception. The U.S. State Department spokesperson added that if SpaceX were to determine that some activity aimed at Iranians requires a specific license, \"OFAC would welcome it and prioritize it\". \"By the same token, if SpaceX determines that its activity is already authorized and has any questions, OFAC also welcomes that engagement,\" the State Department spokesperson said.'''\n",
        "\n",
        "sentiment_Analyzer = SentimentIntensityAnalyzer()\n",
        "sentiment_scores = sentiment_Analyzer.polarity_scores(text_to_analyze)\n",
        "\n",
        "print(\"Sentiment Scores:\")\n",
        "print(f\"Compound: {sentiment_scores['compound']}\")\n",
        "print(f\"Negative: {sentiment_scores['neg']}\")\n",
        "print(f\"Neutral: {sentiment_scores['neu']}\")\n",
        "print(f\"Positive: {sentiment_scores['pos']}\")\n",
        "\n",
        "blob_analysis = TextBlob(text_to_analyze)\n",
        "subjectivity = blob_analysis.sentiment.subjectivity\n",
        "\n",
        "if subjectivity >= 0.5:\n",
        "    subjectivity_result = \"more subjective\"\n",
        "else:\n",
        "    subjectivity_result = \"more objective\"\n",
        "\n",
        "print(\"\\nTextBlob Analysis:\")\n",
        "print(f\"Subjectivity: {subjectivity} ({subjectivity_result})\")\n"
      ],
      "metadata": {
        "colab": {
          "base_uri": "https://localhost:8080/"
        },
        "id": "dElJPZAcPu4n",
        "outputId": "84f23b8b-f4ee-4cb2-f35a-7f271ea004d0"
      },
      "execution_count": 18,
      "outputs": [
        {
          "output_type": "stream",
          "name": "stdout",
          "text": [
            "Sentiment Scores:\n",
            "Compound: 0.2273\n",
            "Negative: 0.063\n",
            "Neutral: 0.868\n",
            "Positive: 0.069\n",
            "\n",
            "TextBlob Analysis:\n",
            "Subjectivity: 0.30897435897435904 (more objective)\n"
          ]
        },
        {
          "output_type": "stream",
          "name": "stderr",
          "text": [
            "[nltk_data] Downloading package vader_lexicon to /root/nltk_data...\n",
            "[nltk_data]   Package vader_lexicon is already up-to-date!\n"
          ]
        }
      ]
    },
    {
      "cell_type": "code",
      "source": [],
      "metadata": {
        "id": "PSZuzsc1QdpQ"
      },
      "execution_count": null,
      "outputs": []
    }
  ]
}